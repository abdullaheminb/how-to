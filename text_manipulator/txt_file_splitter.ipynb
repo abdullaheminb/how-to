{
 "cells": [
  {
   "cell_type": "code",
   "execution_count": 4,
   "id": "d3d4611d-e2d2-4ab2-a442-77808fa9002d",
   "metadata": {},
   "outputs": [],
   "source": [
    "# Define the path to the original and the output file\n",
    "input_file_path = './raw.txt'\n",
    "output_file_path = './updated.txt'\n",
    "\n",
    "# Open the original file to read its content\n",
    "with open(input_file_path, 'r', encoding='utf-8') as file:\n",
    "    content = file.read()\n",
    "\n",
    "# Split the content at each period to get individual sentences\n",
    "# Note: This simple method treats every period as a sentence end.\n",
    "# For more accuracy, especially with other terminators, consider using an NLP library.\n",
    "sentences = content.split('.')\n",
    "\n",
    "# Rejoin the sentences with '\\n\\n' to add double newlines after each sentence\n",
    "modified_content = '\\n\\n'.join(sentence + '.' for sentence in sentences if sentence)\n",
    "\n",
    "# Open a new file (or overwrite the existing one) to write the modified content\n",
    "with open(output_file_path, 'w', encoding='utf-8') as file:\n",
    "    file.write(modified_content)"
   ]
  },
  {
   "cell_type": "code",
   "execution_count": null,
   "id": "a206adf7-2a3b-48cb-a94c-e35de92293d0",
   "metadata": {},
   "outputs": [],
   "source": []
  }
 ],
 "metadata": {
  "kernelspec": {
   "display_name": "Python 3 (ipykernel)",
   "language": "python",
   "name": "python3"
  },
  "language_info": {
   "codemirror_mode": {
    "name": "ipython",
    "version": 3
   },
   "file_extension": ".py",
   "mimetype": "text/x-python",
   "name": "python",
   "nbconvert_exporter": "python",
   "pygments_lexer": "ipython3",
   "version": "3.11.8"
  }
 },
 "nbformat": 4,
 "nbformat_minor": 5
}
